{
 "cells": [
  {
   "cell_type": "code",
   "execution_count": 1,
   "metadata": {},
   "outputs": [],
   "source": [
    "import numpy as np \n",
    "import pandas as pd \n",
    "import matplotlib.pyplot as plt\n",
    "import seaborn as sns"
   ]
  },
  {
   "cell_type": "code",
   "execution_count": 5,
   "metadata": {},
   "outputs": [
    {
     "data": {
      "text/html": [
       "<div>\n",
       "<style scoped>\n",
       "    .dataframe tbody tr th:only-of-type {\n",
       "        vertical-align: middle;\n",
       "    }\n",
       "\n",
       "    .dataframe tbody tr th {\n",
       "        vertical-align: top;\n",
       "    }\n",
       "\n",
       "    .dataframe thead th {\n",
       "        text-align: right;\n",
       "    }\n",
       "</style>\n",
       "<table border=\"1\" class=\"dataframe\">\n",
       "  <thead>\n",
       "    <tr style=\"text-align: right;\">\n",
       "      <th></th>\n",
       "      <th>Timestamp</th>\n",
       "      <th>Temperature</th>\n",
       "      <th>Humidity</th>\n",
       "      <th>SquareFootage</th>\n",
       "      <th>Occupancy</th>\n",
       "      <th>HVACUsage</th>\n",
       "      <th>LightingUsage</th>\n",
       "      <th>RenewableEnergy</th>\n",
       "      <th>DayOfWeek</th>\n",
       "      <th>Holiday</th>\n",
       "      <th>EnergyConsumption</th>\n",
       "    </tr>\n",
       "  </thead>\n",
       "  <tbody>\n",
       "    <tr>\n",
       "      <th>0</th>\n",
       "      <td>2022-01-01 00:00:00</td>\n",
       "      <td>25.139433</td>\n",
       "      <td>43.431581</td>\n",
       "      <td>1565.693999</td>\n",
       "      <td>5</td>\n",
       "      <td>On</td>\n",
       "      <td>Off</td>\n",
       "      <td>2.774699</td>\n",
       "      <td>Monday</td>\n",
       "      <td>No</td>\n",
       "      <td>75.364373</td>\n",
       "    </tr>\n",
       "    <tr>\n",
       "      <th>1</th>\n",
       "      <td>2022-01-01 01:00:00</td>\n",
       "      <td>27.731651</td>\n",
       "      <td>54.225919</td>\n",
       "      <td>1411.064918</td>\n",
       "      <td>1</td>\n",
       "      <td>On</td>\n",
       "      <td>On</td>\n",
       "      <td>21.831384</td>\n",
       "      <td>Saturday</td>\n",
       "      <td>No</td>\n",
       "      <td>83.401855</td>\n",
       "    </tr>\n",
       "    <tr>\n",
       "      <th>2</th>\n",
       "      <td>2022-01-01 02:00:00</td>\n",
       "      <td>28.704277</td>\n",
       "      <td>58.907658</td>\n",
       "      <td>1755.715009</td>\n",
       "      <td>2</td>\n",
       "      <td>Off</td>\n",
       "      <td>Off</td>\n",
       "      <td>6.764672</td>\n",
       "      <td>Sunday</td>\n",
       "      <td>No</td>\n",
       "      <td>78.270888</td>\n",
       "    </tr>\n",
       "    <tr>\n",
       "      <th>3</th>\n",
       "      <td>2022-01-01 03:00:00</td>\n",
       "      <td>20.080469</td>\n",
       "      <td>50.371637</td>\n",
       "      <td>1452.316318</td>\n",
       "      <td>1</td>\n",
       "      <td>Off</td>\n",
       "      <td>On</td>\n",
       "      <td>8.623447</td>\n",
       "      <td>Wednesday</td>\n",
       "      <td>No</td>\n",
       "      <td>56.519850</td>\n",
       "    </tr>\n",
       "    <tr>\n",
       "      <th>4</th>\n",
       "      <td>2022-01-01 04:00:00</td>\n",
       "      <td>23.097359</td>\n",
       "      <td>51.401421</td>\n",
       "      <td>1094.130359</td>\n",
       "      <td>9</td>\n",
       "      <td>On</td>\n",
       "      <td>Off</td>\n",
       "      <td>3.071969</td>\n",
       "      <td>Friday</td>\n",
       "      <td>No</td>\n",
       "      <td>70.811732</td>\n",
       "    </tr>\n",
       "  </tbody>\n",
       "</table>\n",
       "</div>"
      ],
      "text/plain": [
       "             Timestamp  Temperature   Humidity  SquareFootage  Occupancy  \\\n",
       "0  2022-01-01 00:00:00    25.139433  43.431581    1565.693999          5   \n",
       "1  2022-01-01 01:00:00    27.731651  54.225919    1411.064918          1   \n",
       "2  2022-01-01 02:00:00    28.704277  58.907658    1755.715009          2   \n",
       "3  2022-01-01 03:00:00    20.080469  50.371637    1452.316318          1   \n",
       "4  2022-01-01 04:00:00    23.097359  51.401421    1094.130359          9   \n",
       "\n",
       "  HVACUsage LightingUsage  RenewableEnergy  DayOfWeek Holiday  \\\n",
       "0        On           Off         2.774699     Monday      No   \n",
       "1        On            On        21.831384   Saturday      No   \n",
       "2       Off           Off         6.764672     Sunday      No   \n",
       "3       Off            On         8.623447  Wednesday      No   \n",
       "4        On           Off         3.071969     Friday      No   \n",
       "\n",
       "   EnergyConsumption  \n",
       "0          75.364373  \n",
       "1          83.401855  \n",
       "2          78.270888  \n",
       "3          56.519850  \n",
       "4          70.811732  "
      ]
     },
     "execution_count": 5,
     "metadata": {},
     "output_type": "execute_result"
    }
   ],
   "source": [
    "df=pd.read_csv('EnergyConsumption.csv')\n",
    "df.head()"
   ]
  },
  {
   "cell_type": "code",
   "execution_count": 6,
   "metadata": {},
   "outputs": [
    {
     "name": "stdout",
     "output_type": "stream",
     "text": [
      "<class 'pandas.core.frame.DataFrame'>\n",
      "RangeIndex: 1000 entries, 0 to 999\n",
      "Data columns (total 11 columns):\n",
      " #   Column             Non-Null Count  Dtype  \n",
      "---  ------             --------------  -----  \n",
      " 0   Timestamp          1000 non-null   object \n",
      " 1   Temperature        1000 non-null   float64\n",
      " 2   Humidity           1000 non-null   float64\n",
      " 3   SquareFootage      1000 non-null   float64\n",
      " 4   Occupancy          1000 non-null   int64  \n",
      " 5   HVACUsage          1000 non-null   object \n",
      " 6   LightingUsage      1000 non-null   object \n",
      " 7   RenewableEnergy    1000 non-null   float64\n",
      " 8   DayOfWeek          1000 non-null   object \n",
      " 9   Holiday            1000 non-null   object \n",
      " 10  EnergyConsumption  1000 non-null   float64\n",
      "dtypes: float64(5), int64(1), object(5)\n",
      "memory usage: 86.1+ KB\n"
     ]
    }
   ],
   "source": [
    "df.info()"
   ]
  },
  {
   "cell_type": "code",
   "execution_count": 7,
   "metadata": {},
   "outputs": [
    {
     "data": {
      "text/html": [
       "<div>\n",
       "<style scoped>\n",
       "    .dataframe tbody tr th:only-of-type {\n",
       "        vertical-align: middle;\n",
       "    }\n",
       "\n",
       "    .dataframe tbody tr th {\n",
       "        vertical-align: top;\n",
       "    }\n",
       "\n",
       "    .dataframe thead th {\n",
       "        text-align: right;\n",
       "    }\n",
       "</style>\n",
       "<table border=\"1\" class=\"dataframe\">\n",
       "  <thead>\n",
       "    <tr style=\"text-align: right;\">\n",
       "      <th></th>\n",
       "      <th>Temperature</th>\n",
       "      <th>Humidity</th>\n",
       "      <th>SquareFootage</th>\n",
       "      <th>Occupancy</th>\n",
       "      <th>RenewableEnergy</th>\n",
       "      <th>EnergyConsumption</th>\n",
       "    </tr>\n",
       "  </thead>\n",
       "  <tbody>\n",
       "    <tr>\n",
       "      <th>count</th>\n",
       "      <td>1000.000000</td>\n",
       "      <td>1000.000000</td>\n",
       "      <td>1000.000000</td>\n",
       "      <td>1000.000000</td>\n",
       "      <td>1000.000000</td>\n",
       "      <td>1000.000000</td>\n",
       "    </tr>\n",
       "    <tr>\n",
       "      <th>mean</th>\n",
       "      <td>24.982026</td>\n",
       "      <td>45.395412</td>\n",
       "      <td>1500.052488</td>\n",
       "      <td>4.581000</td>\n",
       "      <td>15.132813</td>\n",
       "      <td>77.055873</td>\n",
       "    </tr>\n",
       "    <tr>\n",
       "      <th>std</th>\n",
       "      <td>2.836850</td>\n",
       "      <td>8.518905</td>\n",
       "      <td>288.418873</td>\n",
       "      <td>2.865598</td>\n",
       "      <td>8.745917</td>\n",
       "      <td>8.144112</td>\n",
       "    </tr>\n",
       "    <tr>\n",
       "      <th>min</th>\n",
       "      <td>20.007565</td>\n",
       "      <td>30.015975</td>\n",
       "      <td>1000.512661</td>\n",
       "      <td>0.000000</td>\n",
       "      <td>0.006642</td>\n",
       "      <td>53.263278</td>\n",
       "    </tr>\n",
       "    <tr>\n",
       "      <th>25%</th>\n",
       "      <td>22.645070</td>\n",
       "      <td>38.297722</td>\n",
       "      <td>1247.108548</td>\n",
       "      <td>2.000000</td>\n",
       "      <td>7.628385</td>\n",
       "      <td>71.544690</td>\n",
       "    </tr>\n",
       "    <tr>\n",
       "      <th>50%</th>\n",
       "      <td>24.751637</td>\n",
       "      <td>45.972116</td>\n",
       "      <td>1507.967426</td>\n",
       "      <td>5.000000</td>\n",
       "      <td>15.072296</td>\n",
       "      <td>76.943696</td>\n",
       "    </tr>\n",
       "    <tr>\n",
       "      <th>75%</th>\n",
       "      <td>27.418174</td>\n",
       "      <td>52.420066</td>\n",
       "      <td>1740.340165</td>\n",
       "      <td>7.000000</td>\n",
       "      <td>22.884064</td>\n",
       "      <td>82.921742</td>\n",
       "    </tr>\n",
       "    <tr>\n",
       "      <th>max</th>\n",
       "      <td>29.998671</td>\n",
       "      <td>59.969085</td>\n",
       "      <td>1999.982252</td>\n",
       "      <td>9.000000</td>\n",
       "      <td>29.965327</td>\n",
       "      <td>99.201120</td>\n",
       "    </tr>\n",
       "  </tbody>\n",
       "</table>\n",
       "</div>"
      ],
      "text/plain": [
       "       Temperature     Humidity  SquareFootage    Occupancy  RenewableEnergy  \\\n",
       "count  1000.000000  1000.000000    1000.000000  1000.000000      1000.000000   \n",
       "mean     24.982026    45.395412    1500.052488     4.581000        15.132813   \n",
       "std       2.836850     8.518905     288.418873     2.865598         8.745917   \n",
       "min      20.007565    30.015975    1000.512661     0.000000         0.006642   \n",
       "25%      22.645070    38.297722    1247.108548     2.000000         7.628385   \n",
       "50%      24.751637    45.972116    1507.967426     5.000000        15.072296   \n",
       "75%      27.418174    52.420066    1740.340165     7.000000        22.884064   \n",
       "max      29.998671    59.969085    1999.982252     9.000000        29.965327   \n",
       "\n",
       "       EnergyConsumption  \n",
       "count        1000.000000  \n",
       "mean           77.055873  \n",
       "std             8.144112  \n",
       "min            53.263278  \n",
       "25%            71.544690  \n",
       "50%            76.943696  \n",
       "75%            82.921742  \n",
       "max            99.201120  "
      ]
     },
     "execution_count": 7,
     "metadata": {},
     "output_type": "execute_result"
    }
   ],
   "source": [
    "df.describe()"
   ]
  },
  {
   "cell_type": "code",
   "execution_count": 8,
   "metadata": {},
   "outputs": [
    {
     "data": {
      "text/plain": [
       "Timestamp            0\n",
       "Temperature          0\n",
       "Humidity             0\n",
       "SquareFootage        0\n",
       "Occupancy            0\n",
       "HVACUsage            0\n",
       "LightingUsage        0\n",
       "RenewableEnergy      0\n",
       "DayOfWeek            0\n",
       "Holiday              0\n",
       "EnergyConsumption    0\n",
       "dtype: int64"
      ]
     },
     "execution_count": 8,
     "metadata": {},
     "output_type": "execute_result"
    }
   ],
   "source": [
    "df.isnull().sum()"
   ]
  },
  {
   "cell_type": "code",
   "execution_count": 9,
   "metadata": {},
   "outputs": [
    {
     "data": {
      "text/plain": [
       "['Timestamp', 'HVACUsage', 'LightingUsage', 'DayOfWeek', 'Holiday']"
      ]
     },
     "execution_count": 9,
     "metadata": {},
     "output_type": "execute_result"
    }
   ],
   "source": [
    "non_num_cols=df.select_dtypes(exclude=[np.number]).columns.tolist()\n",
    "non_num_cols"
   ]
  },
  {
   "cell_type": "code",
   "execution_count": 10,
   "metadata": {},
   "outputs": [
    {
     "data": {
      "text/plain": [
       "['HVACUsage', 'LightingUsage', 'DayOfWeek', 'Holiday']"
      ]
     },
     "execution_count": 10,
     "metadata": {},
     "output_type": "execute_result"
    }
   ],
   "source": [
    "non_num_cols.remove('Timestamp')\n",
    "non_num_cols"
   ]
  },
  {
   "cell_type": "code",
   "execution_count": 11,
   "metadata": {},
   "outputs": [
    {
     "name": "stdout",
     "output_type": "stream",
     "text": [
      "['On' 'Off']\n",
      "['Off' 'On']\n",
      "['Monday' 'Saturday' 'Sunday' 'Wednesday' 'Friday' 'Thursday' 'Tuesday']\n",
      "['No' 'Yes']\n"
     ]
    }
   ],
   "source": [
    "for n in non_num_cols:\n",
    "    print(df[n].unique())"
   ]
  },
  {
   "cell_type": "code",
   "execution_count": 12,
   "metadata": {},
   "outputs": [],
   "source": [
    "df['HVACUsage'] = df['HVACUsage'].map({'On': 1, 'Off': 0})\n",
    "df['LightingUsage'] = df['LightingUsage'].map({'On': 1, 'Off': 0})\n",
    "df['DayOfWeek'] = df['DayOfWeek'].map({'Monday': 1, 'Tuesday': 2, 'Wednesday': 3, 'Thursday': 4, 'Friday': 5, 'Saturday': 6, 'Sunday': 7})\n",
    "df['Holiday'] = df['Holiday'].map({'Yes': 1, 'No': 0})\n"
   ]
  },
  {
   "cell_type": "code",
   "execution_count": 13,
   "metadata": {},
   "outputs": [
    {
     "data": {
      "text/html": [
       "<div>\n",
       "<style scoped>\n",
       "    .dataframe tbody tr th:only-of-type {\n",
       "        vertical-align: middle;\n",
       "    }\n",
       "\n",
       "    .dataframe tbody tr th {\n",
       "        vertical-align: top;\n",
       "    }\n",
       "\n",
       "    .dataframe thead th {\n",
       "        text-align: right;\n",
       "    }\n",
       "</style>\n",
       "<table border=\"1\" class=\"dataframe\">\n",
       "  <thead>\n",
       "    <tr style=\"text-align: right;\">\n",
       "      <th></th>\n",
       "      <th>Timestamp</th>\n",
       "      <th>Temperature</th>\n",
       "      <th>Humidity</th>\n",
       "      <th>SquareFootage</th>\n",
       "      <th>Occupancy</th>\n",
       "      <th>HVACUsage</th>\n",
       "      <th>LightingUsage</th>\n",
       "      <th>RenewableEnergy</th>\n",
       "      <th>DayOfWeek</th>\n",
       "      <th>Holiday</th>\n",
       "      <th>EnergyConsumption</th>\n",
       "    </tr>\n",
       "  </thead>\n",
       "  <tbody>\n",
       "    <tr>\n",
       "      <th>0</th>\n",
       "      <td>2022-01-01 00:00:00</td>\n",
       "      <td>25.139433</td>\n",
       "      <td>43.431581</td>\n",
       "      <td>1565.693999</td>\n",
       "      <td>5</td>\n",
       "      <td>1</td>\n",
       "      <td>0</td>\n",
       "      <td>2.774699</td>\n",
       "      <td>1</td>\n",
       "      <td>0</td>\n",
       "      <td>75.364373</td>\n",
       "    </tr>\n",
       "    <tr>\n",
       "      <th>1</th>\n",
       "      <td>2022-01-01 01:00:00</td>\n",
       "      <td>27.731651</td>\n",
       "      <td>54.225919</td>\n",
       "      <td>1411.064918</td>\n",
       "      <td>1</td>\n",
       "      <td>1</td>\n",
       "      <td>1</td>\n",
       "      <td>21.831384</td>\n",
       "      <td>6</td>\n",
       "      <td>0</td>\n",
       "      <td>83.401855</td>\n",
       "    </tr>\n",
       "    <tr>\n",
       "      <th>2</th>\n",
       "      <td>2022-01-01 02:00:00</td>\n",
       "      <td>28.704277</td>\n",
       "      <td>58.907658</td>\n",
       "      <td>1755.715009</td>\n",
       "      <td>2</td>\n",
       "      <td>0</td>\n",
       "      <td>0</td>\n",
       "      <td>6.764672</td>\n",
       "      <td>7</td>\n",
       "      <td>0</td>\n",
       "      <td>78.270888</td>\n",
       "    </tr>\n",
       "    <tr>\n",
       "      <th>3</th>\n",
       "      <td>2022-01-01 03:00:00</td>\n",
       "      <td>20.080469</td>\n",
       "      <td>50.371637</td>\n",
       "      <td>1452.316318</td>\n",
       "      <td>1</td>\n",
       "      <td>0</td>\n",
       "      <td>1</td>\n",
       "      <td>8.623447</td>\n",
       "      <td>3</td>\n",
       "      <td>0</td>\n",
       "      <td>56.519850</td>\n",
       "    </tr>\n",
       "    <tr>\n",
       "      <th>4</th>\n",
       "      <td>2022-01-01 04:00:00</td>\n",
       "      <td>23.097359</td>\n",
       "      <td>51.401421</td>\n",
       "      <td>1094.130359</td>\n",
       "      <td>9</td>\n",
       "      <td>1</td>\n",
       "      <td>0</td>\n",
       "      <td>3.071969</td>\n",
       "      <td>5</td>\n",
       "      <td>0</td>\n",
       "      <td>70.811732</td>\n",
       "    </tr>\n",
       "  </tbody>\n",
       "</table>\n",
       "</div>"
      ],
      "text/plain": [
       "             Timestamp  Temperature   Humidity  SquareFootage  Occupancy  \\\n",
       "0  2022-01-01 00:00:00    25.139433  43.431581    1565.693999          5   \n",
       "1  2022-01-01 01:00:00    27.731651  54.225919    1411.064918          1   \n",
       "2  2022-01-01 02:00:00    28.704277  58.907658    1755.715009          2   \n",
       "3  2022-01-01 03:00:00    20.080469  50.371637    1452.316318          1   \n",
       "4  2022-01-01 04:00:00    23.097359  51.401421    1094.130359          9   \n",
       "\n",
       "   HVACUsage  LightingUsage  RenewableEnergy  DayOfWeek  Holiday  \\\n",
       "0          1              0         2.774699          1        0   \n",
       "1          1              1        21.831384          6        0   \n",
       "2          0              0         6.764672          7        0   \n",
       "3          0              1         8.623447          3        0   \n",
       "4          1              0         3.071969          5        0   \n",
       "\n",
       "   EnergyConsumption  \n",
       "0          75.364373  \n",
       "1          83.401855  \n",
       "2          78.270888  \n",
       "3          56.519850  \n",
       "4          70.811732  "
      ]
     },
     "execution_count": 13,
     "metadata": {},
     "output_type": "execute_result"
    }
   ],
   "source": [
    "df.head()"
   ]
  },
  {
   "cell_type": "markdown",
   "metadata": {},
   "source": [
    "Developing model"
   ]
  },
  {
   "cell_type": "markdown",
   "metadata": {},
   "source": []
  },
  {
   "cell_type": "markdown",
   "metadata": {
    "vscode": {
     "languageId": "lua"
    }
   },
   "source": [
    "# Explaining the data\n",
    "Data Overview:\n",
    "- This dataset contains energy consumption data with 1000 records\n",
    "- The target variable is 'EnergyConsumption' measured in some energy units\n",
    "- Features include environmental factors (Temperature, Humidity), building characteristics (SquareFootage)\n",
    "  usage patterns (Occupancy, HVAC, Lighting), and temporal information (DayOfWeek, Holiday)\n",
    "- All categorical variables have been encoded to numerical values\n",
    "\n",
    "Recommended Algorithms for Energy Consumption Prediction:\n",
    "1. Random Forest Regression - Can handle non-linear relationships and feature interactions\n",
    "2. Gradient Boosting (XGBoost/LightGBM) - Typically performs well on this type of tabular data\n",
    "3. Multiple Linear Regression - As a baseline model\n",
    "4. Neural Networks - If complex patterns exist and with proper feature engineering\n",
    "\n",
    "Gradient Boosting methods are likely the best fit because:\n",
    "- Energy consumption often has non-linear relationships with features like temperature\n",
    "- They can capture interactions between features (like HVAC usage and temperature)\n",
    "- They typically handle mixed data types well\n",
    "- They're robust against outliers and can handle the different scales of features"
   ]
  },
  {
   "cell_type": "markdown",
   "metadata": {},
   "source": [
    "Random Forest Regression"
   ]
  },
  {
   "cell_type": "code",
   "execution_count": 14,
   "metadata": {},
   "outputs": [],
   "source": [
    "from sklearn.model_selection import train_test_split\n",
    "from sklearn.preprocessing import StandardScaler\n",
    "from sklearn.ensemble import RandomForestRegressor\n",
    "from sklearn.metrics import mean_squared_error, mean_absolute_error, r2_score"
   ]
  },
  {
   "cell_type": "code",
   "execution_count": 15,
   "metadata": {},
   "outputs": [],
   "source": [
    "x_train, x_test, y_train, y_test = train_test_split(df.drop(['Timestamp', 'EnergyConsumption'], axis=1), df['EnergyConsumption'], test_size=0.2, random_state=42)"
   ]
  },
  {
   "cell_type": "code",
   "execution_count": 16,
   "metadata": {},
   "outputs": [
    {
     "data": {
      "text/plain": [
       "((800, 9), (200, 9), (800,), (200,))"
      ]
     },
     "execution_count": 16,
     "metadata": {},
     "output_type": "execute_result"
    }
   ],
   "source": [
    "x_train.shape, x_test.shape, y_train.shape, y_test.shape\n"
   ]
  },
  {
   "cell_type": "code",
   "execution_count": 17,
   "metadata": {},
   "outputs": [
    {
     "data": {
      "text/plain": [
       "(array([[-0.60007123,  0.11723233,  0.51063898, -0.93096815, -1.00752834,\n",
       "          1.02532046,  0.33478968, -1.08067495, -0.90911166],\n",
       "        [-1.01407377, -1.368855  ,  1.71124264,  0.81815003, -1.00752834,\n",
       "         -0.97530483, -1.23448958,  0.44678081,  1.09997489],\n",
       "        [ 0.41577638, -0.24227922,  0.25573863, -0.93096815, -1.00752834,\n",
       "         -0.97530483, -1.14691778, -1.58982687, -0.90911166],\n",
       "        [-0.49292495, -0.04673249, -1.28068469,  0.46832639,  0.99252792,\n",
       "          1.02532046, -0.8830278 , -1.58982687, -0.90911166],\n",
       "        [ 0.62624462, -1.50769548,  0.81220342,  0.11850276, -1.00752834,\n",
       "          1.02532046,  0.7974748 ,  0.95593273,  1.09997489]]),\n",
       " array([[ 0.421798  ,  0.40293238, -0.70463059,  1.16797366,  0.99252792,\n",
       "          1.02532046, -1.1088646 , -0.06237111,  1.09997489],\n",
       "        [ 0.78994503, -1.35465891, -0.16393411, -0.23132088,  0.99252792,\n",
       "         -0.97530483, -1.26412462, -0.57152303, -0.90911166],\n",
       "        [ 0.07776934, -0.88194205,  1.2841232 ,  0.46832639, -1.00752834,\n",
       "          1.02532046, -1.16511486, -1.58982687,  1.09997489],\n",
       "        [ 1.75518297,  1.49067995,  0.32547216,  1.5177973 , -1.00752834,\n",
       "          1.02532046,  1.53542955, -1.58982687, -0.90911166],\n",
       "        [-0.92411796, -0.49220273,  0.22681288,  1.16797366,  0.99252792,\n",
       "         -0.97530483,  0.71368061, -1.08067495, -0.90911166]]))"
      ]
     },
     "execution_count": 17,
     "metadata": {},
     "output_type": "execute_result"
    }
   ],
   "source": [
    "scaler=StandardScaler()\n",
    "x_train_scaled=scaler.fit_transform(x_train)\n",
    "x_test_scaled=scaler.transform(x_test)\n",
    "x_train_scaled[:5], x_test_scaled[:5]"
   ]
  },
  {
   "cell_type": "code",
   "execution_count": 18,
   "metadata": {},
   "outputs": [
    {
     "data": {
      "text/plain": [
       "(array([85.71566706, 82.35102867, 76.04901048, 87.96036935, 75.06500307]),\n",
       " 521    86.920611\n",
       " 737    88.351606\n",
       " 740    79.431363\n",
       " 660    90.009188\n",
       " 411    83.891100\n",
       " Name: EnergyConsumption, dtype: float64)"
      ]
     },
     "execution_count": 18,
     "metadata": {},
     "output_type": "execute_result"
    }
   ],
   "source": [
    "model=RandomForestRegressor(n_estimators=100, random_state=42)\n",
    "model.fit(x_train, y_train)\n",
    "y_pred=model.predict(x_test)\n",
    "y_pred[:5], y_test[:5]"
   ]
  },
  {
   "cell_type": "code",
   "execution_count": 19,
   "metadata": {},
   "outputs": [
    {
     "name": "stdout",
     "output_type": "stream",
     "text": [
      "<class 'pandas.core.frame.DataFrame'>\n",
      "Index: 200 entries, 521 to 78\n",
      "Data columns (total 9 columns):\n",
      " #   Column           Non-Null Count  Dtype  \n",
      "---  ------           --------------  -----  \n",
      " 0   Temperature      200 non-null    float64\n",
      " 1   Humidity         200 non-null    float64\n",
      " 2   SquareFootage    200 non-null    float64\n",
      " 3   Occupancy        200 non-null    int64  \n",
      " 4   HVACUsage        200 non-null    int64  \n",
      " 5   LightingUsage    200 non-null    int64  \n",
      " 6   RenewableEnergy  200 non-null    float64\n",
      " 7   DayOfWeek        200 non-null    int64  \n",
      " 8   Holiday          200 non-null    int64  \n",
      "dtypes: float64(4), int64(5)\n",
      "memory usage: 15.6 KB\n"
     ]
    }
   ],
   "source": [
    "x_test.info()"
   ]
  },
  {
   "cell_type": "code",
   "execution_count": 20,
   "metadata": {},
   "outputs": [
    {
     "data": {
      "text/plain": [
       "(29.86094469546986, 4.3776639486662825, 0.5441068482849292)"
      ]
     },
     "execution_count": 20,
     "metadata": {},
     "output_type": "execute_result"
    }
   ],
   "source": [
    "mse=mean_squared_error(y_test, y_pred)\n",
    "mae=mean_absolute_error(y_test, y_pred)\n",
    "r2=r2_score(y_test, y_pred)\n",
    "mse, mae, r2"
   ]
  },
  {
   "cell_type": "code",
   "execution_count": 21,
   "metadata": {},
   "outputs": [
    {
     "data": {
      "image/png": "[encoded data removed]",
      "text/plain": [
       "<Figure size 1000x600 with 1 Axes>"
      ]
     },
     "metadata": {},
     "output_type": "display_data"
    }
   ],
   "source": [
    "x_test['EnergyConsumption']=y_test\n",
    "x_test['PredictedConsumption']=y_pred\n",
    "x_test.head()\n",
    "plt.figure(figsize=(10, 6))\n",
    "plt.scatter(x_test['EnergyConsumption'], x_test['PredictedConsumption'])\n",
    "plt.xlabel('Actual Energy Consumption')\n",
    "plt.ylabel('Predicted Energy Consumption')\n",
    "plt.title('Actual vs Predicted Energy Consumption')\n",
    "plt.plot([x_test['EnergyConsumption'].min(), x_test['EnergyConsumption'].max()], [x_test['EnergyConsumption'].min(), x_test['EnergyConsumption'].max()], 'r--')\n",
    "plt.show()"
   ]
  },
  {
   "cell_type": "code",
   "execution_count": 33,
   "metadata": {},
   "outputs": [
    {
     "data": {
      "text/html": [
       "<div>\n",
       "<style scoped>\n",
       "    .dataframe tbody tr th:only-of-type {\n",
       "        vertical-align: middle;\n",
       "    }\n",
       "\n",
       "    .dataframe tbody tr th {\n",
       "        vertical-align: top;\n",
       "    }\n",
       "\n",
       "    .dataframe thead th {\n",
       "        text-align: right;\n",
       "    }\n",
       "</style>\n",
       "<table border=\"1\" class=\"dataframe\">\n",
       "  <thead>\n",
       "    <tr style=\"text-align: right;\">\n",
       "      <th></th>\n",
       "      <th>Temperature</th>\n",
       "      <th>Humidity</th>\n",
       "      <th>SquareFootage</th>\n",
       "      <th>Occupancy</th>\n",
       "      <th>HVACUsage</th>\n",
       "      <th>LightingUsage</th>\n",
       "      <th>RenewableEnergy</th>\n",
       "      <th>DayOfWeek</th>\n",
       "      <th>Holiday</th>\n",
       "    </tr>\n",
       "  </thead>\n",
       "  <tbody>\n",
       "    <tr>\n",
       "      <th>0</th>\n",
       "      <td>23.182844248720986</td>\n",
       "      <td>31.67991978011051</td>\n",
       "      <td>1633.9553295431137</td>\n",
       "      <td>8</td>\n",
       "      <td>0</td>\n",
       "      <td>0</td>\n",
       "      <td>27.517099250037322</td>\n",
       "      <td>4</td>\n",
       "      <td>1</td>\n",
       "    </tr>\n",
       "  </tbody>\n",
       "</table>\n",
       "</div>"
      ],
      "text/plain": [
       "          Temperature           Humidity       SquareFootage Occupancy  \\\n",
       "0  23.182844248720986  31.67991978011051  1633.9553295431137         8   \n",
       "\n",
       "   HVACUsage  LightingUsage     RenewableEnergy  DayOfWeek  Holiday  \n",
       "0          0              0  27.517099250037322          4        1  "
      ]
     },
     "execution_count": 33,
     "metadata": {},
     "output_type": "execute_result"
    }
   ],
   "source": [
    "#making model for users prediction\n",
    "inp=np.array([[23.182844248720986,31.67991978011051,1633.9553295431137,8,'Off','Off',27.517099250037322,'Thursday','Yes']])\n",
    "\n",
    "# Create DataFrame with appropriate column names to match training data\n",
    "inp_df = pd.DataFrame(inp, columns=['Temperature', 'Humidity', 'SquareFootage', 'Occupancy', 'HVACUsage', 'LightingUsage', 'RenewableEnergy', 'DayOfWeek', 'Holiday'])\n",
    "\n",
    "inp_df['HVACUsage'] = inp_df['HVACUsage'].map({'On': 1, 'Off': 0})\n",
    "inp_df['LightingUsage'] = inp_df['LightingUsage'].map({'On': 1, 'Off': 0})\n",
    "inp_df['DayOfWeek'] = inp_df['DayOfWeek'].map({'Monday': 1, 'Tuesday': 2, 'Wednesday': 3, 'Thursday': 4, 'Friday': 5, 'Saturday': 6, 'Sunday': 7})\n",
    "inp_df['Holiday'] = inp_df['Holiday'].map({'Yes': 1, 'No': 0})\n",
    "\n",
    "inp_df"
   ]
  },
  {
   "cell_type": "code",
   "execution_count": 34,
   "metadata": {},
   "outputs": [
    {
     "name": "stdout",
     "output_type": "stream",
     "text": [
      "Predicted Energy Consumption: 75.65437353045265\n"
     ]
    }
   ],
   "source": [
    "pred=model.predict(inp_df)\n",
    "print(f\"Predicted Energy Consumption: {pred[0]}\")"
   ]
  },
  {
   "cell_type": "markdown",
   "metadata": {},
   "source": [
    "Gradient Boosting Regressor"
   ]
  },
  {
   "cell_type": "code",
   "execution_count": 24,
   "metadata": {},
   "outputs": [],
   "source": [
    "from sklearn.ensemble import GradientBoostingRegressor\n",
    "from sklearn.metrics import mean_squared_error, mean_absolute_error, r2_score"
   ]
  },
  {
   "cell_type": "code",
   "execution_count": 44,
   "metadata": {},
   "outputs": [
    {
     "data": {
      "text/plain": [
       "(array([82.66167919, 80.84750021, 75.41411136, 88.07441781, 74.61992482]),\n",
       " 521    86.920611\n",
       " 737    88.351606\n",
       " 740    79.431363\n",
       " 660    90.009188\n",
       " 411    83.891100\n",
       " Name: EnergyConsumption, dtype: float64)"
      ]
     },
     "execution_count": 44,
     "metadata": {},
     "output_type": "execute_result"
    }
   ],
   "source": [
    "model1=GradientBoostingRegressor(n_estimators=100, random_state=42)\n",
    "# x_test=x_test.drop(['EnergyConsumption', 'PredictedConsumption'])\n",
    "# x_train=x_train.drop(['EnergyConsumption'], axis=1)\n",
    "model1.fit(x_train, y_train)\n",
    "y_pred1=model1.predict(x_test)\n",
    "y_pred1[:5], y_test[:5]"
   ]
  },
  {
   "cell_type": "code",
   "execution_count": 45,
   "metadata": {},
   "outputs": [
    {
     "data": {
      "text/plain": [
       "(30.959996640568534, 4.466462944282406, 0.5273273973914809)"
      ]
     },
     "execution_count": 45,
     "metadata": {},
     "output_type": "execute_result"
    }
   ],
   "source": [
    "#Accuracy of the model\n",
    "mse1=mean_squared_error(y_test, y_pred1)\n",
    "mae1=mean_absolute_error(y_test, y_pred1)\n",
    "r2_1=r2_score(y_test, y_pred1)\n",
    "mse1, mae1, r2_1"
   ]
  },
  {
   "cell_type": "code",
   "execution_count": 46,
   "metadata": {},
   "outputs": [
    {
     "name": "stdout",
     "output_type": "stream",
     "text": [
      "Predicted Energy Consumption: 76.52044125877487\n"
     ]
    }
   ],
   "source": [
    "#making model for users prediction\n",
    "inp=np.array([[23.182844248720986,31.67991978011051,1633.9553295431137,8,'Off','Off',27.517099250037322,'Thursday','Yes']])\n",
    "\n",
    "# Create DataFrame with appropriate column names to match training data\n",
    "inp_df = pd.DataFrame(inp, columns=['Temperature', 'Humidity', 'SquareFootage', 'Occupancy', 'HVACUsage', 'LightingUsage', 'RenewableEnergy', 'DayOfWeek', 'Holiday'])\n",
    "\n",
    "inp_df['HVACUsage'] = inp_df['HVACUsage'].map({'On': 1, 'Off': 0})\n",
    "inp_df['LightingUsage'] = inp_df['LightingUsage'].map({'On': 1, 'Off': 0})\n",
    "inp_df['DayOfWeek'] = inp_df['DayOfWeek'].map({'Monday': 1, 'Tuesday': 2, 'Wednesday': 3, 'Thursday': 4, 'Friday': 5, 'Saturday': 6, 'Sunday': 7})\n",
    "inp_df['Holiday'] = inp_df['Holiday'].map({'Yes': 1, 'No': 0})\n",
    "\n",
    "pred=model1.predict(inp_df)\n",
    "print(f\"Predicted Energy Consumption: {pred[0]}\")"
   ]
  },
  {
   "cell_type": "code",
   "execution_count": null,
   "metadata": {},
   "outputs": [
    {
     "name": "stdout",
     "output_type": "stream",
     "text": [
      "<class 'pandas.core.frame.DataFrame'>\n",
      "Index: 200 entries, 521 to 78\n",
      "Data columns (total 9 columns):\n",
      " #   Column           Non-Null Count  Dtype  \n",
      "---  ------           --------------  -----  \n",
      " 0   Temperature      200 non-null    float64\n",
      " 1   Humidity         200 non-null    float64\n",
      " 2   SquareFootage    200 non-null    float64\n",
      " 3   Occupancy        200 non-null    int64  \n",
      " 4   HVACUsage        200 non-null    int64  \n",
      " 5   LightingUsage    200 non-null    int64  \n",
      " 6   RenewableEnergy  200 non-null    float64\n",
      " 7   DayOfWeek        200 non-null    int64  \n",
      " 8   Holiday          200 non-null    int64  \n",
      "dtypes: float64(4), int64(5)\n",
      "memory usage: 23.7 KB\n",
      "<class 'pandas.core.frame.DataFrame'>\n",
      "Index: 800 entries, 29 to 102\n",
      "Data columns (total 9 columns):\n",
      " #   Column           Non-Null Count  Dtype  \n",
      "---  ------           --------------  -----  \n",
      " 0   Temperature      800 non-null    float64\n",
      " 1   Humidity         800 non-null    float64\n",
      " 2   SquareFootage    800 non-null    float64\n",
      " 3   Occupancy        800 non-null    int64  \n",
      " 4   HVACUsage        800 non-null    int64  \n",
      " 5   LightingUsage    800 non-null    int64  \n",
      " 6   RenewableEnergy  800 non-null    float64\n",
      " 7   DayOfWeek        800 non-null    int64  \n",
      " 8   Holiday          800 non-null    int64  \n",
      "dtypes: float64(4), int64(5)\n",
      "memory usage: 62.5 KB\n"
     ]
    },
    {
     "data": {
      "text/plain": [
       "(None, None)"
      ]
     },
     "execution_count": 40,
     "metadata": {},
     "output_type": "execute_result"
    }
   ],
   "source": [
    "x_test.info()"
   ]
  },
  {
   "cell_type": "code",
   "execution_count": 32,
   "metadata": {},
   "outputs": [
    {
     "name": "stdout",
     "output_type": "stream",
     "text": [
      "{'PredictedConsumption', 'EnergyConsumption'}\n"
     ]
    }
   ],
   "source": [
    "# print(set(x_train.columns) - set(x_test.columns))  # Features missing in x_test\n",
    "print(set(x_test.columns) - set(x_train.columns))  # Features missing in x_train"
   ]
  },
  {
   "cell_type": "code",
   "execution_count": 41,
   "metadata": {},
   "outputs": [
    {
     "name": "stdout",
     "output_type": "stream",
     "text": [
      "<class 'pandas.core.frame.DataFrame'>\n",
      "Index: 800 entries, 29 to 102\n",
      "Data columns (total 9 columns):\n",
      " #   Column           Non-Null Count  Dtype  \n",
      "---  ------           --------------  -----  \n",
      " 0   Temperature      800 non-null    float64\n",
      " 1   Humidity         800 non-null    float64\n",
      " 2   SquareFootage    800 non-null    float64\n",
      " 3   Occupancy        800 non-null    int64  \n",
      " 4   HVACUsage        800 non-null    int64  \n",
      " 5   LightingUsage    800 non-null    int64  \n",
      " 6   RenewableEnergy  800 non-null    float64\n",
      " 7   DayOfWeek        800 non-null    int64  \n",
      " 8   Holiday          800 non-null    int64  \n",
      "dtypes: float64(4), int64(5)\n",
      "memory usage: 62.5 KB\n"
     ]
    }
   ],
   "source": [
    "x_train.info()"
   ]
  },
  {
   "cell_type": "code",
   "execution_count": null,
   "metadata": {},
   "outputs": [],
   "source": [
    "blablabla"
   ]
  }
 ],
 "metadata": {
  "kernelspec": {
   "display_name": "Python 3",
   "language": "python",
   "name": "python3"
  },
  "language_info": {
   "codemirror_mode": {
    "name": "ipython",
    "version": 3
   },
   "file_extension": ".py",
   "mimetype": "text/x-python",
   "name": "python",
   "nbconvert_exporter": "python",
   "pygments_lexer": "ipython3",
   "version": "3.11.0"
  }
 },
 "nbformat": 4,
 "nbformat_minor": 2
}
